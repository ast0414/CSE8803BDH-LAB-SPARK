{
 "cells": [
  {
   "cell_type": "code",
   "execution_count": 23,
   "metadata": {
    "collapsed": false
   },
   "outputs": [
    {
     "name": "stdout",
     "output_type": "stream",
     "text": [
      "Marking com.databricks:spark-csv_2.11:1.5.0 for download\n",
      "Preparing to fetch from:\n",
      "-> file:/var/folders/qb/gs4c5dz139g_9tnzwzhcbf64xdz4jh/T/toree_add_deps8460235008841579923/\n",
      "-> https://repo1.maven.org/maven2\n",
      "-> New file at /var/folders/qb/gs4c5dz139g_9tnzwzhcbf64xdz4jh/T/toree_add_deps8460235008841579923/https/repo1.maven.org/maven2/org/apache/commons/commons-csv/1.1/commons-csv-1.1.jar\n",
      "-> New file at /var/folders/qb/gs4c5dz139g_9tnzwzhcbf64xdz4jh/T/toree_add_deps8460235008841579923/https/repo1.maven.org/maven2/com/univocity/univocity-parsers/1.5.1/univocity-parsers-1.5.1.jar\n",
      "-> New file at /var/folders/qb/gs4c5dz139g_9tnzwzhcbf64xdz4jh/T/toree_add_deps8460235008841579923/https/repo1.maven.org/maven2/com/databricks/spark-csv_2.11/1.5.0/spark-csv_2.11-1.5.0.jar\n"
     ]
    }
   ],
   "source": [
    "%AddDeps com.databricks spark-csv_2.11 1.5.0 --transitive"
   ]
  },
  {
   "cell_type": "code",
   "execution_count": 5,
   "metadata": {
    "collapsed": false
   },
   "outputs": [],
   "source": [
    "import org.apache.spark.sql.SQLContext\n",
    "val sqlContext = new SQLContext(sc)\n",
    "import sqlContext.implicits._"
   ]
  },
  {
   "cell_type": "code",
   "execution_count": 20,
   "metadata": {
    "collapsed": false
   },
   "outputs": [],
   "source": [
    "val patientEvents = (sqlContext.load(\"input/\", \"com.databricks.spark.csv\")\n",
    "    .toDF(\"patientId\", \"eventId\", \"date\", \"rawvalue\")\n",
    "    .withColumn(\"value\", 'rawvalue.cast(\"Double\")))"
   ]
  },
  {
   "cell_type": "code",
   "execution_count": 7,
   "metadata": {
    "collapsed": false
   },
   "outputs": [],
   "source": [
    "patientEvents.registerTempTable(\"events\")"
   ]
  },
  {
   "cell_type": "code",
   "execution_count": 8,
   "metadata": {
    "collapsed": false
   },
   "outputs": [
    {
     "data": {
      "text/plain": [
       "Array([00291F39917544B1,DIAG28521,16], [00291F39917544B1,DIAG58881,16], [00291F39917544B1,DIAG2809,13], [00824B6D595BAFB8,DIAG4019,11], [0085B4F55FFA358D,DIAG28521,9], [0124E58C3460D3F8,DIAG4019,8], [6A8F2B98C1F6F5DA,DIAG58881,8], [019E4729585EF3DD,DIAG4019,8], [2D5D3D5F03C8C176,DIAG4019,8], [01BE015FAF3D32D1,DIAG4019,7], [019E4729585EF3DD,DIAG25000,7], [01A999551906C787,DIAG4019,7], [020F7FEDB230CEAB,DIAG4019,6], [014BAF52258B1C69,DIAG4019,6], [01CE3095AFF436D3,DIAG42731,6], [01434D73376AD345,DIAGV5869,6], [01A999551906C787,DIAG42731,6], [335D0E4618C2C824,DIAG4019,6], [6A8F2B98C1F6F5DA,DIAG2809,6], [0085B4F55FFA358D,DIAG4019,6], [011BF695C016AB71,DIAG4019,6], [01D90330AF8E123D,DIAG4019,6], [49200ED048897DB5,DIAGV5861,6], [008C0A4FEB2D5501,DIAG272..."
      ]
     },
     "execution_count": 8,
     "metadata": {},
     "output_type": "execute_result"
    }
   ],
   "source": [
    "sqlContext.sql(\"\"\"\n",
    "        select patientId, eventId, count(*) count from events \n",
    "        where eventId like 'DIAG%' group by patientId, eventId \n",
    "        order by count desc\n",
    "    \"\"\").collect"
   ]
  },
  {
   "cell_type": "code",
   "execution_count": 16,
   "metadata": {
    "collapsed": false
   },
   "outputs": [
    {
     "name": "stdout",
     "output_type": "stream",
     "text": [
      "+----------------+---------+-----+\n",
      "|       patientId|  eventId|count|\n",
      "+----------------+---------+-----+\n",
      "|00291F39917544B1|DIAG28521|   16|\n",
      "|00291F39917544B1|DIAG58881|   16|\n",
      "|00291F39917544B1| DIAG2809|   13|\n",
      "|00824B6D595BAFB8| DIAG4019|   11|\n",
      "|0085B4F55FFA358D|DIAG28521|    9|\n",
      "|6A8F2B98C1F6F5DA|DIAG58881|    8|\n",
      "|019E4729585EF3DD| DIAG4019|    8|\n",
      "|0124E58C3460D3F8| DIAG4019|    8|\n",
      "|2D5D3D5F03C8C176| DIAG4019|    8|\n",
      "|01A999551906C787| DIAG4019|    7|\n",
      "|019E4729585EF3DD|DIAG25000|    7|\n",
      "|01BE015FAF3D32D1| DIAG4019|    7|\n",
      "|01D90330AF8E123D| DIAG4019|    6|\n",
      "|014BAF52258B1C69| DIAG4019|    6|\n",
      "|0085B4F55FFA358D| DIAG4019|    6|\n",
      "|01434D73376AD345|DIAGV5869|    6|\n",
      "|335D0E4618C2C824| DIAG4019|    6|\n",
      "|020F7FEDB230CEAB| DIAG4019|    6|\n",
      "|01CE3095AFF436D3|DIAG42731|    6|\n",
      "|01A999551906C787|DIAG42731|    6|\n",
      "+----------------+---------+-----+\n",
      "only showing top 20 rows\n",
      "\n"
     ]
    }
   ],
   "source": [
    "(patientEvents\n",
    "    .filter($\"eventId\".startsWith(\"DIAG\"))\n",
    "    .groupBy(\"patientId\", \"eventId\")\n",
    "    .count\n",
    "    .orderBy($\"count\".desc).show)"
   ]
  },
  {
   "cell_type": "code",
   "execution_count": 18,
   "metadata": {
    "collapsed": false
   },
   "outputs": [],
   "source": [
    "(patientEvents\n",
    "    .filter($\"eventId\".startsWith(\"DIAG\"))\n",
    "    .groupBy(\"patientId\", \"eventId\")\n",
    "    .count\n",
    "    .orderBy($\"count\".desc)\n",
    "    .save(\"aggregated.json\", \"json\"))"
   ]
  },
  {
   "cell_type": "code",
   "execution_count": 24,
   "metadata": {
    "collapsed": false
   },
   "outputs": [],
   "source": [
    "(patientEvents.filter($\"eventId\".startsWith(\"DIAG\"))\n",
    "    .groupBy(\"patientId\", \"eventId\")\n",
    "    .count.orderBy($\"count\".desc)\n",
    "    .save(\"aggregated.csv\"))"
   ]
  },
  {
   "cell_type": "code",
   "execution_count": 13,
   "metadata": {
    "collapsed": false
   },
   "outputs": [
    {
     "data": {
      "text/plain": [
       "UserDefinedFunction(<function1>,StringType,List(StringType))"
      ]
     },
     "execution_count": 13,
     "metadata": {},
     "output_type": "execute_result"
    }
   ],
   "source": [
    " sqlContext.udf.register(\"getEventType\", (s: String) => s match {\n",
    "    case diagnostics if diagnostics.startsWith(\"DIAG\") => \"diagnostics\"\n",
    "    case \"PAYMENT\" => \"payment\"\n",
    "    case drug if drug.startsWith(\"DRUG\") => \"drug\"\n",
    "    case procedure if procedure.startsWith(\"PROC\") => \"procedure\"\n",
    "    case \"heartfailure\" => \"heart failure\"\n",
    "    case _ => \"unknown\"\n",
    "})"
   ]
  },
  {
   "cell_type": "code",
   "execution_count": 19,
   "metadata": {
    "collapsed": false
   },
   "outputs": [
    {
     "name": "stdout",
     "output_type": "stream",
     "text": [
      "\r",
      "                                                                                \r",
      "+-------------+-----+\n",
      "|         type|count|\n",
      "+-------------+-----+\n",
      "|         drug|16251|\n",
      "|  diagnostics|10820|\n",
      "|      payment| 3259|\n",
      "|    procedure|  514|\n",
      "|heart failure|  300|\n",
      "+-------------+-----+\n",
      "\n"
     ]
    }
   ],
   "source": [
    "sqlContext.sql(\"\"\"select getEventType(eventId) type, count(*) count \n",
    "    from events group by getEventType(eventId) \n",
    "    order by count desc\n",
    "    \"\"\").show"
   ]
  }
 ],
 "metadata": {
  "kernelspec": {
   "display_name": "Apache Toree - Scala",
   "language": "scala",
   "name": "apache_toree_scala"
  },
  "language_info": {
   "name": "scala",
   "version": "2.10.4"
  }
 },
 "nbformat": 4,
 "nbformat_minor": 0
}
